{
 "cells": [
  {
   "cell_type": "code",
   "execution_count": null,
   "metadata": {
    "collapsed": false
   },
   "outputs": [],
   "source": [
    "import pandas as pd\n",
    "import matplotlib.pyplot as plt\n",
    "%matplotlib inline\n",
    "import numpy as np\n",
    "\n",
    "from pandas_datareader import DataReader\n",
    "from datetime import datetime\n",
    "import seaborn as sns"
   ]
  },
  {
   "cell_type": "code",
   "execution_count": null,
   "metadata": {
    "collapsed": false
   },
   "outputs": [],
   "source": [
    "# Timeframe\n",
    "\n",
    "end = datetime.now()\n",
    "start = datetime(end.year-60,end.month,end.day)"
   ]
  },
  {
   "cell_type": "code",
   "execution_count": null,
   "metadata": {
    "collapsed": false
   },
   "outputs": [],
   "source": [
    "stocks_df = DataReader('FORD','yahoo',start,end)"
   ]
  },
  {
   "cell_type": "code",
   "execution_count": null,
   "metadata": {
    "collapsed": false
   },
   "outputs": [],
   "source": [
    "stocks_df.head(1)"
   ]
  },
  {
   "cell_type": "code",
   "execution_count": null,
   "metadata": {
    "collapsed": false
   },
   "outputs": [],
   "source": [
    "#stocks_df.reset_index(level=0, inplace=True)\n",
    "#stocks_df = stocks_df.sort_values(by='Date')\n",
    "#stocks_df = stocks_df.set_index('Date')\n",
    "#stocks_df.head(1)"
   ]
  },
  {
   "cell_type": "markdown",
   "metadata": {},
   "source": [
    "### Close\n",
    "\n",
    "Closing Prices are non-stationary."
   ]
  },
  {
   "cell_type": "code",
   "execution_count": null,
   "metadata": {
    "collapsed": false
   },
   "outputs": [],
   "source": [
    "stocks_df['Close'].plot(figsize=(15,5))"
   ]
  },
  {
   "cell_type": "markdown",
   "metadata": {},
   "source": [
    "### First Difference\n",
    "\n",
    "We can consider analyzing a first difference of the series. value of (t-1) is subtracted from value of (t)."
   ]
  },
  {
   "cell_type": "code",
   "execution_count": null,
   "metadata": {
    "collapsed": false
   },
   "outputs": [],
   "source": [
    "stocks_df['First_Difference'] = stocks_df['Close'] - stocks_df['Close'].shift()\n",
    "stocks_df['First_Difference'].plot(figsize=(15,5))"
   ]
  },
  {
   "cell_type": "markdown",
   "metadata": {},
   "source": [
    "First difference is relatively stationary and mostly fluctuates around 0. But variance of this series can vary over time. We need to incorporate mechanism to accomodate for sensing smaller variances along with the larger ones. Hence, Log."
   ]
  },
  {
   "cell_type": "markdown",
   "metadata": {},
   "source": [
    "### Log"
   ]
  },
  {
   "cell_type": "code",
   "execution_count": null,
   "metadata": {
    "collapsed": false
   },
   "outputs": [],
   "source": [
    "stocks_df['Natural_Log'] = stocks_df['Close'].apply(lambda x: np.log(x))\n",
    "stocks_df['Natural_Log'].plot(figsize=(15,5))"
   ]
  },
  {
   "cell_type": "markdown",
   "metadata": {},
   "source": [
    "So that gives us the original closing price with a log transform applied to \"flatten\" the data from an exponential curve to a linear curve. One way to visually see the effect that the log transform had is to analyze the variance over time. We can use a rolling variance statistic and compare both the original series and the logged series."
   ]
  },
  {
   "cell_type": "markdown",
   "metadata": {},
   "source": [
    "### Variance - with and without Log"
   ]
  },
  {
   "cell_type": "code",
   "execution_count": null,
   "metadata": {
    "collapsed": false
   },
   "outputs": [],
   "source": [
    "#Original Rolling Variance\n",
    "stocks_df['Original_Rolling_Variance'] = stocks_df['Close'].rolling(window = 30, min_periods=None, freq=None, center=True).var()\n",
    "\n",
    "#Log Rolling Variance\n",
    "stocks_df['Log_Rolling_Variance'] = stocks_df['Natural_Log'].rolling(window = 30, min_periods=None, freq=None, center=True).var()"
   ]
  },
  {
   "cell_type": "code",
   "execution_count": null,
   "metadata": {
    "collapsed": false
   },
   "outputs": [],
   "source": [
    "fig, ax = plt.subplots(2,1, figsize = (15,10))\n",
    "stocks_df['Original_Rolling_Variance'].plot(ax=ax[0],title='Original Variance')\n",
    "stocks_df['Log_Rolling_Variance'].plot(ax=ax[1],title='Log Variance')\n",
    "fig.tight_layout()"
   ]
  },
  {
   "cell_type": "markdown",
   "metadata": {},
   "source": [
    "### Normal and Logged First Difference"
   ]
  },
  {
   "cell_type": "code",
   "execution_count": null,
   "metadata": {
    "collapsed": true
   },
   "outputs": [],
   "source": [
    "#Original Rolling Variance\n",
    "#stocks_df['First_Difference']\n",
    "\n",
    "#Log Rolling Variance\n",
    "stocks_df['Log_First_Difference'] = stocks_df['Natural_Log'] - stocks_df['Natural_Log'].shift()"
   ]
  },
  {
   "cell_type": "code",
   "execution_count": null,
   "metadata": {
    "collapsed": false
   },
   "outputs": [],
   "source": [
    "fig, ax = plt.subplots(2,1, figsize = (15,10))\n",
    "stocks_df['First_Difference'].plot(ax=ax[0],title='First Difference')\n",
    "stocks_df['Log_First_Difference'].plot(ax=ax[1],title='Log First Difference')\n",
    "fig.tight_layout()"
   ]
  },
  {
   "cell_type": "markdown",
   "metadata": {},
   "source": [
    "### Create a few more lag variables"
   ]
  },
  {
   "cell_type": "code",
   "execution_count": null,
   "metadata": {
    "collapsed": true
   },
   "outputs": [],
   "source": [
    "stocks_df['Lag_1'] = stocks_df['Log_First_Difference'].shift()\n",
    "stocks_df['Lag_2'] = stocks_df['Log_First_Difference'].shift(2)\n",
    "stocks_df['Lag_5'] = stocks_df['Log_First_Difference'].shift(5)\n",
    "stocks_df['Lag_30'] = stocks_df['Log_First_Difference'].shift(30)"
   ]
  },
  {
   "cell_type": "code",
   "execution_count": null,
   "metadata": {
    "collapsed": false
   },
   "outputs": [],
   "source": [
    "fig, ax = plt.subplots(2,2, figsize = (10,10))\n",
    "sns.jointplot('Log_First_Difference','Lag_1', stocks_df,kind = 'reg',ax=ax[0,0])\n",
    "sns.jointplot('Log_First_Difference','Lag_2',stocks_df,kind = 'reg',ax=ax[0,1])\n",
    "sns.jointplot('Log_First_Difference','Lag_5',stocks_df,kind = 'reg',ax=ax[1,0])\n",
    "sns.jointplot('Log_First_Difference','Lag_30',stocks_df,kind = 'reg',ax=ax[1,1])\n",
    "fig.tight_layout()"
   ]
  },
  {
   "cell_type": "markdown",
   "metadata": {},
   "source": [
    "#### No apparent Correlation. It means that today's index values does not tell much about at least a few days in the future."
   ]
  },
  {
   "cell_type": "markdown",
   "metadata": {},
   "source": [
    "### Lag relationships\n",
    "\n",
    "There could be relation in the values we did not try. There is a function to test those relationships. Let's try those."
   ]
  },
  {
   "cell_type": "code",
   "execution_count": null,
   "metadata": {
    "collapsed": true
   },
   "outputs": [],
   "source": [
    "from statsmodels.tsa.stattools import acf\n",
    "from statsmodels.tsa.stattools import pacf"
   ]
  },
  {
   "cell_type": "code",
   "execution_count": null,
   "metadata": {
    "collapsed": false
   },
   "outputs": [],
   "source": [
    "lag_correlations = acf(stocks_df['Log_First_Difference'].iloc[1:].values)\n",
    "#lag_correlations is an array\n",
    "lag_partial_correlations = pacf(stocks_df['Log_First_Difference'].iloc[1:].values)\n",
    "#Array as well"
   ]
  },
  {
   "cell_type": "code",
   "execution_count": null,
   "metadata": {
    "collapsed": false
   },
   "outputs": [],
   "source": [
    "fig, ax = plt.subplots(figsize=(16,12))  \n",
    "ax.plot(lag_correlations, marker='o', linestyle='--')\n",
    "ax.plot(lag_partial_correlations, marker='x')"
   ]
  },
  {
   "cell_type": "markdown",
   "metadata": {},
   "source": [
    "No apparent correlation, this is a random walk"
   ]
  },
  {
   "cell_type": "markdown",
   "metadata": {},
   "source": [
    "### Seasonal Decomposition"
   ]
  },
  {
   "cell_type": "code",
   "execution_count": null,
   "metadata": {
    "collapsed": false
   },
   "outputs": [],
   "source": [
    "from statsmodels.tsa.seasonal import seasonal_decompose  "
   ]
  },
  {
   "cell_type": "code",
   "execution_count": null,
   "metadata": {
    "collapsed": false
   },
   "outputs": [],
   "source": [
    "decomposition = seasonal_decompose(stocks_df['Natural_Log'], model='additive', freq=365)  \n",
    "fig = plt.figure()  \n",
    "fig = decomposition.plot()  "
   ]
  },
  {
   "cell_type": "markdown",
   "metadata": {},
   "source": [
    "### ARIMA\n",
    "\n",
    "Let's try fitting simple average model"
   ]
  },
  {
   "cell_type": "code",
   "execution_count": null,
   "metadata": {
    "collapsed": false
   },
   "outputs": [],
   "source": [
    "import statsmodels.api as sm  \n",
    "model = sm.tsa.ARIMA(stocks_df['Natural_Log'].iloc[1:], order=(1, 1, 0))  \n",
    "results = model.fit(disp=-1)\n",
    "stocks_df['Forecast'] = results.fittedvalues\n",
    "stocks_df[['Log_First_Difference','Forecast']].plot(figsize=(16,12))"
   ]
  },
  {
   "cell_type": "markdown",
   "metadata": {},
   "source": [
    "This is not a good fit. Let's look at the subset"
   ]
  },
  {
   "cell_type": "code",
   "execution_count": null,
   "metadata": {
    "collapsed": false
   },
   "outputs": [],
   "source": [
    "stocks_df[['Log_First_Difference','Forecast']].iloc[1200:1600, :].plot(figsize=(16,12))"
   ]
  },
  {
   "cell_type": "markdown",
   "metadata": {},
   "source": [
    "#### Let's try exponential"
   ]
  },
  {
   "cell_type": "code",
   "execution_count": null,
   "metadata": {
    "collapsed": false
   },
   "outputs": [],
   "source": [
    "model = sm.tsa.ARIMA(stocks_df['Natural_Log'].iloc[1:], order=(0, 1, 1))  \n",
    "results = model.fit(disp=-1)\n",
    "stocks_df['Forecast'] = results.fittedvalues\n",
    "stocks_df[['Log_First_Difference','Forecast']].iloc[1200:1600,:].plot(figsize=(16,12))"
   ]
  }
 ],
 "metadata": {
  "anaconda-cloud": {},
  "kernelspec": {
   "display_name": "Python [default]",
   "language": "python",
   "name": "python2"
  },
  "language_info": {
   "codemirror_mode": {
    "name": "ipython",
    "version": 2
   },
   "file_extension": ".py",
   "mimetype": "text/x-python",
   "name": "python",
   "nbconvert_exporter": "python",
   "pygments_lexer": "ipython2",
   "version": "2.7.12"
  }
 },
 "nbformat": 4,
 "nbformat_minor": 1
}
